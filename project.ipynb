{
 "cells": [
  {
   "cell_type": "markdown",
   "metadata": {},
   "source": [
    "# Project: YRoots in Python\n",
    "\n",
    "This notebook is a blank slate for you to write in.  Feel free to include figures (don't forget to add/commit them to your repository) and examples.  You can change the kernel (from `Python 3`; see upper right) if the open source project you're writing about does not use Python.  You can write from the prompts below or delete all the cells and start fresh.  Note that Git will always contain your history.\n",
    "\n",
    "You can run shell commands:"
   ]
  },
  {
   "cell_type": "code",
   "execution_count": 1,
   "metadata": {},
   "outputs": [
    {
     "name": "stdout",
     "output_type": "stream",
     "text": [
      "project.ipynb  README.md\n"
     ]
    }
   ],
   "source": [
    "! ls"
   ]
  },
  {
   "cell_type": "markdown",
   "metadata": {},
   "source": [
    "and include code snippets\n",
    "\n",
    "```c\n",
    "double square(double x) {\n",
    "    return x*x;\n",
    "}\n",
    "```\n",
    "or code cells"
   ]
  },
  {
   "cell_type": "code",
   "execution_count": 2,
   "metadata": {},
   "outputs": [
    {
     "name": "stdout",
     "output_type": "stream",
     "text": [
      "square(3) = 9\n"
     ]
    }
   ],
   "source": [
    "def square(x):\n",
    "    return x*x\n",
    "\n",
    "print(f'square(3) = {square(3)}')"
   ]
  },
  {
   "cell_type": "markdown",
   "metadata": {},
   "source": [
    "The following prompts may be useful, but you don't have to use them.\n",
    "## About the method\n",
    "\n",
    "How does the method relate to concepts we've covered in class. You're writing for your fellow classmates so try to make it understandable to them. Why is the method used in this context? Can you explain why it's preferred over some alternative in this context?"
   ]
  },
  {
   "cell_type": "markdown",
   "metadata": {},
   "source": [
    "YRoots is a package that can be used to help the rootfinding we've covered in class. It is used to find all the real roots of a system of equations in a compact interval in $\\mathbb{R}^n$ under mild assumptions on the roots.\n",
    "##### Some examples of how to use yroots:\n",
    "git\n",
    "      git clone https://github.com/tylerjarvis/RootFinding.git"
   ]
  },
  {
   "cell_type": "code",
   "execution_count": 17,
   "metadata": {},
   "outputs": [
    {
     "name": "stdout",
     "output_type": "stream",
     "text": [
      "Obtaining file:///home/jovyan/numcomp-project-siyuyao-yuune/RootFinding\n",
      "Installing collected packages: RootFinding\n",
      "  Attempting uninstall: RootFinding\n",
      "    Found existing installation: RootFinding 0.1.0\n",
      "    Uninstalling RootFinding-0.1.0:\n",
      "      Successfully uninstalled RootFinding-0.1.0\n",
      "  Running setup.py develop for RootFinding\n",
      "Successfully installed RootFinding\n"
     ]
    }
   ],
   "source": [
    "! pip install -e ./RootFinding\n",
    "#imports"
   ]
  },
  {
   "cell_type": "code",
   "execution_count": 18,
   "metadata": {},
   "outputs": [],
   "source": [
    "#imports\n",
    "import numpy as np\n",
    "import yroots as yr\n",
    "\n",
    "#plotting tools\n",
    "%matplotlib inline\n",
    "from matplotlib import pyplot as plt\n",
    "from mpl_toolkits.mplot3d import Axes3D"
   ]
  },
  {
   "cell_type": "markdown",
   "metadata": {},
   "source": [
    "Here is an example of YRoots solving the bivariate system of equations\n",
    "\n",
    "$$0 = \\sin(xy) + x\\log(y+3) - x^2 + \\frac{1}{y-4}$$$$6 = \\cos(3xy) + e^{\\frac{3y}{x-2}} - x.$$\n",
    "Solutions of the system subject to the constrains $-1\\leq x\\leq0,-2\\leq y\\leq1$ are common roots of the functions\n",
    "\n",
    "$$f(x,y) = \\sin(xy) + x\\log(y+3) - x^2 + \\frac{1}{y-4} $$$$g(x,y) = \\cos(3xy) + e^{\\frac{3y}{x-2}} - x - 6$$\n",
    "on the search domain $[-1,0]\\times[-2,1]$."
   ]
  },
  {
   "cell_type": "code",
   "execution_count": 19,
   "metadata": {},
   "outputs": [
    {
     "name": "stdout",
     "output_type": "stream",
     "text": [
      "Percent Finished: 100%                                                  \n",
      "Total intervals checked was 85\n",
      "Methods used were ['constant_term_check', 'quadratic_check', 'Base Case', 'Macaulay', 'Too Deep']\n",
      "The percent solved by each was [ 8.2353 83.5294  0.      8.2353  0.    ]\n",
      "CPU times: user 584 ms, sys: 0 ns, total: 584 ms\n",
      "Wall time: 2.58 s\n",
      "[[-0.410034   -1.40471685]\n",
      " [-0.73720226 -1.65461673]]\n"
     ]
    }
   ],
   "source": [
    "#define the functions\n",
    "f = lambda x,y : np.sin(x*y) + x*np.log(y+3) - x**2 + 1/(y-4)\n",
    "g = lambda x,y : np.cos(3*x*y) + np.exp(3*y/(x-2)) - x - 6\n",
    "\n",
    "#search domain bounds\n",
    "a = [-1,-2] #lower bounds on x and y\n",
    "b = [0,1] #upper bounds on x and y\n",
    "\n",
    "\n",
    "# compute the roots and time the process\n",
    "%time roots = yr.solve([f,g], a, b)\n",
    "\n",
    "print(roots)"
   ]
  },
  {
   "cell_type": "code",
   "execution_count": 20,
   "metadata": {},
   "outputs": [
    {
     "name": "stdout",
     "output_type": "stream",
     "text": [
      "Percent Finished: 100%                                                  \n",
      "Total intervals checked was 85\n",
      "Methods used were ['constant_term_check', 'quadratic_check', 'Base Case', 'Macaulay', 'Too Deep']\n",
      "The percent solved by each was [ 8.2353 83.5294  0.      8.2353  0.    ]\n",
      "CPU times: user 566 ms, sys: 0 ns, total: 566 ms\n",
      "Wall time: 2.41 s\n",
      "[[-0.410034   -1.40471685]\n",
      " [-0.73720226 -1.65461673]]\n"
     ]
    }
   ],
   "source": [
    "#define the functions\n",
    "f = lambda x,y : np.sin(x*y) + x*np.log(y+3) - x**2 + 1/(y-4)\n",
    "g = lambda x,y : np.cos(3*x*y) + np.exp(3*y/(x-2)) - x - 6\n",
    "\n",
    "#search domain bounds\n",
    "a = [-1,-2] #lower bounds on x and y\n",
    "b = [0,1] #upper bounds on x and y\n",
    "\n",
    "\n",
    "# compute the roots and time the process\n",
    "%time roots = yr.solve([f,g], a, b)\n",
    "\n",
    "print(roots)"
   ]
  },
  {
   "cell_type": "code",
   "execution_count": 21,
   "metadata": {},
   "outputs": [
    {
     "name": "stdout",
     "output_type": "stream",
     "text": [
      "Percent Finished: 100%                                                  \n",
      "Total intervals checked was 85\n",
      "Methods used were ['constant_term_check', 'quadratic_check', 'Base Case', 'Macaulay', 'Too Deep']\n",
      "The percent solved by each was [ 8.2353 83.5294  0.      8.2353  0.    ]\n"
     ]
    },
    {
     "data": {
      "text/plain": [
       "<Figure size 3600x2400 with 0 Axes>"
      ]
     },
     "metadata": {},
     "output_type": "display_data"
    },
    {
     "data": {
      "image/png": "[encoded data removed]",
      "text/plain": [
       "<Figure size 468x216 with 1 Axes>"
      ]
     },
     "metadata": {
      "needs_background": "light"
     },
     "output_type": "display_data"
    }
   ],
   "source": [
    "#Plot the zero loci of each function and the common roots\n",
    "\n",
    "roots = yr.solve([f,g], a, b, plot=True)"
   ]
  },
  {
   "cell_type": "code",
   "execution_count": 22,
   "metadata": {},
   "outputs": [
    {
     "name": "stdout",
     "output_type": "stream",
     "text": [
      "residuals for f are [3.83262866e-12 2.18864926e-11]\n",
      "residuals for g are [1.24248611e-09 5.85648863e-10]\n"
     ]
    }
   ],
   "source": [
    "#Compute the residuals for each function and root\n",
    "print('residuals for f are {}'.format(np.abs(f(roots[:,0],roots[:,1]))))\n",
    "print('residuals for g are {}'.format(np.abs(g(roots[:,0],roots[:,1]))))"
   ]
  },
  {
   "cell_type": "markdown",
   "metadata": {},
   "source": [
    "By using this package, the process of rootfinding can be much easier."
   ]
  },
  {
   "cell_type": "markdown",
   "metadata": {},
   "source": [
    "### Questions you have about the method\n",
    "\n",
    "* You can list questions you haven't been able to answer. Perhaps your peers will be able to help answer them. Jed will address some questions in class."
   ]
  },
  {
   "cell_type": "markdown",
   "metadata": {},
   "source": [
    "Can you explain why it's preferred over some alternative in this context?"
   ]
  },
  {
   "cell_type": "markdown",
   "metadata": {},
   "source": [
    "## About the software\n",
    "\n",
    "Link to the repository. What does the software package do (at a high level)? Who develops it? Who uses it? What language is it written in and what language(s) can it be called from? If there are figures of its architecture, use, or products (e.g., from the docs), you're welcome to include them here. This is an example diagram included in the notebook:\n",
    "\n",
    "![](https://libceed.readthedocs.io/en/latest/_images/libCEED.png)"
   ]
  },
  {
   "cell_type": "markdown",
   "metadata": {},
   "source": [
    "link:  https://github.com/tylerjarvis/RootFinding/tree/master\n",
    "The software package helps us do the rootfinding not only in 2D-dimension but also in 3D-dimension. It is pretty cool that it can help us solve difficult math problems using simple functions.\n",
    "The package is developed by 15 contributers and it is written in python."
   ]
  },
  {
   "cell_type": "markdown",
   "metadata": {},
   "source": [
    "## Method as it appears in the software\n",
    "\n",
    "What role does the method play in the software? How does one call it (perhaps via a higher level interface that uses the method)? Are there particular performance concerns that went into its use? How expensive is it? Can you express performance in terms that are relevant to a user? How about accuracy, conditioning, or stability in the chosen formulation?"
   ]
  },
  {
   "cell_type": "markdown",
   "metadata": {},
   "source": [
    "This is a package in Python and can be used in jupyter notebook. To use the package, just import it in your own programm. In this package there are many different functions that can be used to improve rootfinding process. There are examples in the above sections. And in the RootFinding folder,there is also a demo notebook that includes some of the examples of how to use it. I think this package is pretty useful and can be used in different area. In the demo, they also test the accuracy of the functions, and the results are pretty good. It is also easy to fit in other methods."
   ]
  },
  {
   "cell_type": "markdown",
   "metadata": {},
   "source": [
    "### Open questions\n",
    "\n",
    "* Any open questions you would like to discuss or get help answering?"
   ]
  }
 ],
 "metadata": {
  "kernelspec": {
   "display_name": "Python 3",
   "language": "python",
   "name": "python3"
  },
  "language_info": {
   "codemirror_mode": {
    "name": "ipython",
    "version": 3
   },
   "file_extension": ".py",
   "mimetype": "text/x-python",
   "name": "python",
   "nbconvert_exporter": "python",
   "pygments_lexer": "ipython3",
   "version": "3.7.3"
  }
 },
 "nbformat": 4,
 "nbformat_minor": 4
}
